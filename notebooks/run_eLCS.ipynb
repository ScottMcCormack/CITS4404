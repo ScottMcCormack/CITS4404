{
 "cells": [
  {
   "cell_type": "code",
   "execution_count": 1,
   "metadata": {},
   "outputs": [
    {
     "name": "stdout",
     "output_type": "stream",
     "text": [
      "----------------------------------------------------------------------------\n",
      "eLCS Code Demo 5: The Complete eLCS Algorithm - Niche GA + Subsumption\n",
      "----------------------------------------------------------------------------\n",
      "Environment: Formatting Data... \n",
      "DataManagement: Loading Data... data/eLCS/6Multiplexer_Data_Complete.txt\n",
      "DataManagement: Phenotype Column Location = 6\n",
      "DataManagement: Number of Attributes = 6\n",
      "DataManagement: Number of Instances = 64\n",
      "DataManagement: Analyzing Phenotype...\n",
      "DataManagement: Phenotype Detected as Discrete.\n",
      "DataManagement: Detecting Classes...\n",
      "DataManagement: Following Classes Detected:['0', '1']\n",
      "Class: 0 count = 32\n",
      "Class: 1 count = 32\n",
      "DataManagement: Detecting Attributes...\n",
      "DataManagement: Identified 6 discrete and 0 continuous attributes.\n",
      "DataManagement: Characterizing Attributes...\n",
      "----------------------------------------------------------------------------\n",
      "eLCS: Initializing Algorithm...\n",
      "Learning Checkpoints: [5000, 10000]\n",
      "Maximum Iterations: 10000\n",
      "Beginning eLCS learning iterations.\n",
      "------------------------------------------------------------------------------------------------------------------------------------------------------\n",
      "Epoch: 1\t Iteration: 64\t MacroPop: 30\t MicroPop: 32\t AccEstimate: 0.6875\t AveGen: 0.4895833333333333\t Time: 9.662310282389323e-05\n",
      "Epoch: 2\t Iteration: 128\t MacroPop: 45\t MicroPop: 64\t AccEstimate: 0.796875\t AveGen: 0.484375\t Time: 0.00020528237024943033\n",
      "Epoch: 3\t Iteration: 192\t MacroPop: 65\t MicroPop: 98\t AccEstimate: 0.8125\t AveGen: 0.48809523809523797\t Time: 0.00033968687057495117\n",
      "Epoch: 4\t Iteration: 256\t MacroPop: 73\t MicroPop: 122\t AccEstimate: 0.765625\t AveGen: 0.49453551912568305\t Time: 0.0005188981691996256\n",
      "Epoch: 5\t Iteration: 320\t MacroPop: 82\t MicroPop: 142\t AccEstimate: 0.78125\t AveGen: 0.5046948356807512\t Time: 0.0007106820742289225\n",
      "Epoch: 6\t Iteration: 384\t MacroPop: 83\t MicroPop: 166\t AccEstimate: 0.828125\t AveGen: 0.5230923694779115\t Time: 0.0009011427561442057\n",
      "Epoch: 7\t Iteration: 448\t MacroPop: 99\t MicroPop: 197\t AccEstimate: 0.828125\t AveGen: 0.5346869712351944\t Time: 0.0011168281237284342\n",
      "Epoch: 8\t Iteration: 512\t MacroPop: 112\t MicroPop: 225\t AccEstimate: 0.859375\t AveGen: 0.5459259259259258\t Time: 0.0013681888580322266\n",
      "Epoch: 9\t Iteration: 576\t MacroPop: 122\t MicroPop: 249\t AccEstimate: 0.890625\t AveGen: 0.544176706827309\t Time: 0.0016385197639465332\n",
      "Epoch: 10\t Iteration: 640\t MacroPop: 130\t MicroPop: 275\t AccEstimate: 0.890625\t AveGen: 0.5436363636363634\t Time: 0.0019282023111979166\n",
      "Epoch: 11\t Iteration: 704\t MacroPop: 135\t MicroPop: 299\t AccEstimate: 0.890625\t AveGen: 0.5457079152731323\t Time: 0.0022458751996358235\n",
      "Epoch: 12\t Iteration: 768\t MacroPop: 141\t MicroPop: 325\t AccEstimate: 0.90625\t AveGen: 0.5558974358974356\t Time: 0.0025641759236653644\n",
      "Epoch: 13\t Iteration: 832\t MacroPop: 147\t MicroPop: 347\t AccEstimate: 0.90625\t AveGen: 0.5557156580211334\t Time: 0.0028789242108662925\n",
      "Epoch: 14\t Iteration: 896\t MacroPop: 154\t MicroPop: 371\t AccEstimate: 0.90625\t AveGen: 0.554806828391734\t Time: 0.0032089551289876304\n",
      "Epoch: 15\t Iteration: 960\t MacroPop: 154\t MicroPop: 383\t AccEstimate: 0.921875\t AveGen: 0.557006092254134\t Time: 0.0035348018010457356\n",
      "Epoch: 16\t Iteration: 1024\t MacroPop: 159\t MicroPop: 402\t AccEstimate: 0.9375\t AveGen: 0.5572139303482587\t Time: 0.00386199951171875\n",
      "Epoch: 17\t Iteration: 1088\t MacroPop: 162\t MicroPop: 418\t AccEstimate: 0.9375\t AveGen: 0.5582137161084529\t Time: 0.004188251495361328\n",
      "Epoch: 18\t Iteration: 1152\t MacroPop: 164\t MicroPop: 438\t AccEstimate: 0.96875\t AveGen: 0.5566971080669713\t Time: 0.004534069697062174\n",
      "Epoch: 19\t Iteration: 1216\t MacroPop: 172\t MicroPop: 464\t AccEstimate: 0.96875\t AveGen: 0.5574712643678161\t Time: 0.0049201289812723795\n",
      "Epoch: 20\t Iteration: 1280\t MacroPop: 177\t MicroPop: 488\t AccEstimate: 0.984375\t AveGen: 0.5590846994535517\t Time: 0.005286423365275065\n",
      "Epoch: 21\t Iteration: 1344\t MacroPop: 181\t MicroPop: 506\t AccEstimate: 1.0\t AveGen: 0.5606060606060603\t Time: 0.0056540091832478845\n",
      "Epoch: 22\t Iteration: 1408\t MacroPop: 182\t MicroPop: 526\t AccEstimate: 0.984375\t AveGen: 0.5627376425855509\t Time: 0.006022405624389648\n",
      "Epoch: 23\t Iteration: 1472\t MacroPop: 185\t MicroPop: 546\t AccEstimate: 0.984375\t AveGen: 0.5625763125763124\t Time: 0.006394116083780924\n",
      "Epoch: 24\t Iteration: 1536\t MacroPop: 187\t MicroPop: 568\t AccEstimate: 1.0\t AveGen: 0.5622065727699528\t Time: 0.0067829728126525875\n",
      "Epoch: 25\t Iteration: 1600\t MacroPop: 194\t MicroPop: 590\t AccEstimate: 1.0\t AveGen: 0.5627118644067796\t Time: 0.007170883814493815\n",
      "Epoch: 26\t Iteration: 1664\t MacroPop: 197\t MicroPop: 608\t AccEstimate: 1.0\t AveGen: 0.5633223684210524\t Time: 0.007562696933746338\n",
      "Epoch: 27\t Iteration: 1728\t MacroPop: 201\t MicroPop: 632\t AccEstimate: 1.0\t AveGen: 0.5627637130801687\t Time: 0.007993634541829426\n",
      "Epoch: 28\t Iteration: 1792\t MacroPop: 201\t MicroPop: 652\t AccEstimate: 1.0\t AveGen: 0.5626278118609406\t Time: 0.008413128058115641\n",
      "Epoch: 29\t Iteration: 1856\t MacroPop: 205\t MicroPop: 672\t AccEstimate: 1.0\t AveGen: 0.5632440476190476\t Time: 0.00886156956354777\n",
      "Epoch: 30\t Iteration: 1920\t MacroPop: 205\t MicroPop: 692\t AccEstimate: 1.0\t AveGen: 0.5631021194605009\t Time: 0.009288318951924642\n",
      "Epoch: 31\t Iteration: 1984\t MacroPop: 206\t MicroPop: 716\t AccEstimate: 1.0\t AveGen: 0.5630819366852885\t Time: 0.0097176988919576\n",
      "Epoch: 32\t Iteration: 2048\t MacroPop: 210\t MicroPop: 738\t AccEstimate: 1.0\t AveGen: 0.5639114724480577\t Time: 0.010137828191121419\n",
      "Epoch: 33\t Iteration: 2112\t MacroPop: 211\t MicroPop: 762\t AccEstimate: 1.0\t AveGen: 0.5632108486439196\t Time: 0.010558152198791504\n",
      "Epoch: 34\t Iteration: 2176\t MacroPop: 214\t MicroPop: 786\t AccEstimate: 1.0\t AveGen: 0.5623409669211197\t Time: 0.010987516244252522\n",
      "Epoch: 35\t Iteration: 2240\t MacroPop: 218\t MicroPop: 806\t AccEstimate: 1.0\t AveGen: 0.5626550868486353\t Time: 0.011417710781097412\n",
      "Epoch: 36\t Iteration: 2304\t MacroPop: 219\t MicroPop: 824\t AccEstimate: 1.0\t AveGen: 0.5620954692556636\t Time: 0.011849335829416911\n",
      "Epoch: 37\t Iteration: 2368\t MacroPop: 221\t MicroPop: 846\t AccEstimate: 1.0\t AveGen: 0.5624507486209614\t Time: 0.01229470173517863\n",
      "Epoch: 38\t Iteration: 2432\t MacroPop: 224\t MicroPop: 867\t AccEstimate: 1.0\t AveGen: 0.5628604382929643\t Time: 0.012768236796061198\n",
      "Epoch: 39\t Iteration: 2496\t MacroPop: 225\t MicroPop: 887\t AccEstimate: 1.0\t AveGen: 0.5627583615182262\t Time: 0.013213765621185303\n",
      "Epoch: 40\t Iteration: 2560\t MacroPop: 227\t MicroPop: 899\t AccEstimate: 1.0\t AveGen: 0.5626622172784576\t Time: 0.013652257124582927\n",
      "Epoch: 41\t Iteration: 2624\t MacroPop: 232\t MicroPop: 921\t AccEstimate: 1.0\t AveGen: 0.561708288092653\t Time: 0.01410826047261556\n",
      "Epoch: 42\t Iteration: 2688\t MacroPop: 233\t MicroPop: 941\t AccEstimate: 1.0\t AveGen: 0.5616365568544103\t Time: 0.014563576380411784\n",
      "Epoch: 43\t Iteration: 2752\t MacroPop: 236\t MicroPop: 969\t AccEstimate: 1.0\t AveGen: 0.5615755073959409\t Time: 0.015026525656382243\n",
      "Epoch: 44\t Iteration: 2816\t MacroPop: 240\t MicroPop: 993\t AccEstimate: 1.0\t AveGen: 0.5605908022826455\t Time: 0.015494402249654133\n",
      "Epoch: 45\t Iteration: 2880\t MacroPop: 239\t MicroPop: 1000\t AccEstimate: 1.0\t AveGen: 0.5608333333333335\t Time: 0.016041040420532227\n",
      "Epoch: 46\t Iteration: 2944\t MacroPop: 237\t MicroPop: 1000\t AccEstimate: 1.0\t AveGen: 0.5611666666666667\t Time: 0.016560188929239907\n",
      "Epoch: 47\t Iteration: 3008\t MacroPop: 233\t MicroPop: 1000\t AccEstimate: 1.0\t AveGen: 0.5606666666666669\t Time: 0.017118350664774577\n",
      "Epoch: 48\t Iteration: 3072\t MacroPop: 228\t MicroPop: 1000\t AccEstimate: 1.0\t AveGen: 0.5605000000000001\t Time: 0.017686291535695394\n",
      "Epoch: 49\t Iteration: 3136\t MacroPop: 228\t MicroPop: 1000\t AccEstimate: 1.0\t AveGen: 0.5595000000000001\t Time: 0.01818668842315674\n",
      "Epoch: 50\t Iteration: 3200\t MacroPop: 225\t MicroPop: 1000\t AccEstimate: 1.0\t AveGen: 0.5598333333333336\t Time: 0.018693423271179198\n",
      "Epoch: 51\t Iteration: 3264\t MacroPop: 222\t MicroPop: 1000\t AccEstimate: 1.0\t AveGen: 0.5583333333333335\t Time: 0.019193847974141438\n",
      "Epoch: 52\t Iteration: 3328\t MacroPop: 223\t MicroPop: 1000\t AccEstimate: 1.0\t AveGen: 0.5588333333333334\t Time: 0.01972452402114868\n",
      "Epoch: 53\t Iteration: 3392\t MacroPop: 225\t MicroPop: 1000\t AccEstimate: 1.0\t AveGen: 0.5578333333333334\t Time: 0.0202323317527771\n"
     ]
    },
    {
     "name": "stdout",
     "output_type": "stream",
     "text": [
      "Epoch: 54\t Iteration: 3456\t MacroPop: 226\t MicroPop: 1000\t AccEstimate: 1.0\t AveGen: 0.5569999999999999\t Time: 0.0207235058148702\n",
      "Epoch: 55\t Iteration: 3520\t MacroPop: 227\t MicroPop: 1000\t AccEstimate: 1.0\t AveGen: 0.5566666666666668\t Time: 0.021219960848490396\n",
      "Epoch: 56\t Iteration: 3584\t MacroPop: 224\t MicroPop: 1000\t AccEstimate: 1.0\t AveGen: 0.5571666666666667\t Time: 0.02177496353785197\n",
      "Epoch: 57\t Iteration: 3648\t MacroPop: 223\t MicroPop: 1000\t AccEstimate: 1.0\t AveGen: 0.5570000000000003\t Time: 0.02227387030919393\n",
      "Epoch: 58\t Iteration: 3712\t MacroPop: 221\t MicroPop: 1000\t AccEstimate: 1.0\t AveGen: 0.5570000000000003\t Time: 0.02278639078140259\n",
      "Epoch: 59\t Iteration: 3776\t MacroPop: 216\t MicroPop: 1000\t AccEstimate: 1.0\t AveGen: 0.556666666666667\t Time: 0.023281057675679524\n",
      "Epoch: 60\t Iteration: 3840\t MacroPop: 218\t MicroPop: 1000\t AccEstimate: 1.0\t AveGen: 0.5555000000000002\t Time: 0.02377548615137736\n",
      "Epoch: 61\t Iteration: 3904\t MacroPop: 218\t MicroPop: 1000\t AccEstimate: 1.0\t AveGen: 0.5543333333333336\t Time: 0.024262821674346922\n",
      "Epoch: 62\t Iteration: 3968\t MacroPop: 220\t MicroPop: 1000\t AccEstimate: 1.0\t AveGen: 0.5535000000000002\t Time: 0.02478510936101278\n",
      "Epoch: 63\t Iteration: 4032\t MacroPop: 217\t MicroPop: 1000\t AccEstimate: 1.0\t AveGen: 0.5530000000000003\t Time: 0.025279895464579264\n",
      "Epoch: 64\t Iteration: 4096\t MacroPop: 213\t MicroPop: 1000\t AccEstimate: 1.0\t AveGen: 0.5530000000000003\t Time: 0.02575210730234782\n",
      "Epoch: 65\t Iteration: 4160\t MacroPop: 216\t MicroPop: 1000\t AccEstimate: 1.0\t AveGen: 0.5530000000000003\t Time: 0.026224291324615477\n",
      "Epoch: 66\t Iteration: 4224\t MacroPop: 216\t MicroPop: 1000\t AccEstimate: 1.0\t AveGen: 0.5525000000000001\t Time: 0.02669122616449992\n",
      "Epoch: 67\t Iteration: 4288\t MacroPop: 216\t MicroPop: 1000\t AccEstimate: 1.0\t AveGen: 0.5523333333333335\t Time: 0.027152887980143228\n",
      "Epoch: 68\t Iteration: 4352\t MacroPop: 213\t MicroPop: 1000\t AccEstimate: 1.0\t AveGen: 0.5518333333333334\t Time: 0.02763436237970988\n",
      "Epoch: 69\t Iteration: 4416\t MacroPop: 211\t MicroPop: 1000\t AccEstimate: 1.0\t AveGen: 0.5516666666666667\t Time: 0.028118797143300376\n",
      "Epoch: 70\t Iteration: 4480\t MacroPop: 212\t MicroPop: 1000\t AccEstimate: 1.0\t AveGen: 0.5516666666666667\t Time: 0.028610487778981526\n",
      "Epoch: 71\t Iteration: 4544\t MacroPop: 210\t MicroPop: 1000\t AccEstimate: 1.0\t AveGen: 0.5515\t Time: 0.02909760077794393\n",
      "Epoch: 72\t Iteration: 4608\t MacroPop: 212\t MicroPop: 1000\t AccEstimate: 1.0\t AveGen: 0.5508333333333334\t Time: 0.02956862449645996\n",
      "Epoch: 73\t Iteration: 4672\t MacroPop: 208\t MicroPop: 1000\t AccEstimate: 1.0\t AveGen: 0.5498333333333335\t Time: 0.030052860577901203\n",
      "Epoch: 74\t Iteration: 4736\t MacroPop: 207\t MicroPop: 1000\t AccEstimate: 1.0\t AveGen: 0.5498333333333334\t Time: 0.03052495320638021\n",
      "Epoch: 75\t Iteration: 4800\t MacroPop: 207\t MicroPop: 1000\t AccEstimate: 1.0\t AveGen: 0.5496666666666666\t Time: 0.03101447820663452\n",
      "Epoch: 76\t Iteration: 4864\t MacroPop: 209\t MicroPop: 1000\t AccEstimate: 1.0\t AveGen: 0.5496666666666667\t Time: 0.03147665659586588\n",
      "Epoch: 77\t Iteration: 4928\t MacroPop: 210\t MicroPop: 1000\t AccEstimate: 1.0\t AveGen: 0.5500000000000002\t Time: 0.03194220860799154\n",
      "Epoch: 78\t Iteration: 4992\t MacroPop: 209\t MicroPop: 1000\t AccEstimate: 1.0\t AveGen: 0.5495000000000002\t Time: 0.03240120808283488\n",
      "------------------------------------------------------------------------------------------------------------------------------------------------------\n",
      "Running Population Evaluation after 5000 iterations.\n",
      "-----------------------------------------------\n",
      "TRAINING Accuracy Results:-------------\n",
      "Instance Coverage = 100.0%\n",
      "Prediction Ties = 0.0%\n",
      "64 out of 64 instances covered and correctly classified.\n",
      "Standard Accuracy (Adjusted) = 1.0\n",
      "Balanced Accuracy (Adjusted) = 1.0\n",
      "Writing Population Statistical Summary File...\n",
      "Writing Population as Data File...\n",
      "Continue Learning...\n",
      "------------------------------------------------------------------------------------------------------------------------------------------------------\n",
      "Epoch: 79\t Iteration: 5056\t MacroPop: 210\t MicroPop: 1000\t AccEstimate: 1.0\t AveGen: 0.5500000000000003\t Time: 0.03318035205205282\n",
      "Epoch: 80\t Iteration: 5120\t MacroPop: 211\t MicroPop: 1000\t AccEstimate: 1.0\t AveGen: 0.5500000000000002\t Time: 0.03368388811747233\n",
      "Epoch: 81\t Iteration: 5184\t MacroPop: 212\t MicroPop: 1000\t AccEstimate: 1.0\t AveGen: 0.5493333333333336\t Time: 0.03420413335164388\n",
      "Epoch: 82\t Iteration: 5248\t MacroPop: 218\t MicroPop: 1000\t AccEstimate: 1.0\t AveGen: 0.5491666666666668\t Time: 0.03472434679667155\n",
      "Epoch: 83\t Iteration: 5312\t MacroPop: 216\t MicroPop: 1000\t AccEstimate: 1.0\t AveGen: 0.548666666666667\t Time: 0.03522026538848877\n",
      "Epoch: 84\t Iteration: 5376\t MacroPop: 218\t MicroPop: 1000\t AccEstimate: 1.0\t AveGen: 0.5480000000000004\t Time: 0.03574220339457194\n",
      "Epoch: 85\t Iteration: 5440\t MacroPop: 218\t MicroPop: 1000\t AccEstimate: 1.0\t AveGen: 0.5468333333333336\t Time: 0.036248226960500084\n",
      "Epoch: 86\t Iteration: 5504\t MacroPop: 219\t MicroPop: 1000\t AccEstimate: 1.0\t AveGen: 0.5448333333333337\t Time: 0.03675115903218587\n",
      "Epoch: 87\t Iteration: 5568\t MacroPop: 217\t MicroPop: 1000\t AccEstimate: 1.0\t AveGen: 0.5458333333333337\t Time: 0.03724143902460734\n",
      "Epoch: 88\t Iteration: 5632\t MacroPop: 218\t MicroPop: 1000\t AccEstimate: 1.0\t AveGen: 0.5463333333333338\t Time: 0.037762892246246335\n",
      "Epoch: 89\t Iteration: 5696\t MacroPop: 222\t MicroPop: 1000\t AccEstimate: 1.0\t AveGen: 0.5465000000000004\t Time: 0.038280797004699704\n",
      "Epoch: 90\t Iteration: 5760\t MacroPop: 222\t MicroPop: 1000\t AccEstimate: 1.0\t AveGen: 0.5455000000000002\t Time: 0.038773612181345625\n",
      "Epoch: 91\t Iteration: 5824\t MacroPop: 222\t MicroPop: 1000\t AccEstimate: 1.0\t AveGen: 0.5443333333333333\t Time: 0.03931528329849243\n",
      "Epoch: 92\t Iteration: 5888\t MacroPop: 220\t MicroPop: 1000\t AccEstimate: 1.0\t AveGen: 0.5443333333333332\t Time: 0.03980674743652344\n",
      "Epoch: 93\t Iteration: 5952\t MacroPop: 219\t MicroPop: 1000\t AccEstimate: 1.0\t AveGen: 0.5435\t Time: 0.04028711716334025\n",
      "Epoch: 94\t Iteration: 6016\t MacroPop: 218\t MicroPop: 1000\t AccEstimate: 1.0\t AveGen: 0.5433333333333332\t Time: 0.040801652272542316\n",
      "Epoch: 95\t Iteration: 6080\t MacroPop: 218\t MicroPop: 1000\t AccEstimate: 1.0\t AveGen: 0.543\t Time: 0.041311101118723555\n",
      "Epoch: 96\t Iteration: 6144\t MacroPop: 220\t MicroPop: 1000\t AccEstimate: 1.0\t AveGen: 0.5418333333333333\t Time: 0.04178612232208252\n",
      "Epoch: 97\t Iteration: 6208\t MacroPop: 220\t MicroPop: 1000\t AccEstimate: 1.0\t AveGen: 0.5411666666666668\t Time: 0.04231741825739543\n",
      "Epoch: 98\t Iteration: 6272\t MacroPop: 219\t MicroPop: 1000\t AccEstimate: 1.0\t AveGen: 0.5413333333333333\t Time: 0.04281158844629924\n",
      "Epoch: 99\t Iteration: 6336\t MacroPop: 223\t MicroPop: 1000\t AccEstimate: 1.0\t AveGen: 0.5406666666666667\t Time: 0.04331352710723877\n",
      "Epoch: 100\t Iteration: 6400\t MacroPop: 222\t MicroPop: 1000\t AccEstimate: 1.0\t AveGen: 0.5408333333333334\t Time: 0.043810991446177165\n",
      "Epoch: 101\t Iteration: 6464\t MacroPop: 222\t MicroPop: 1000\t AccEstimate: 1.0\t AveGen: 0.5405000000000002\t Time: 0.04430400530497233\n",
      "Epoch: 102\t Iteration: 6528\t MacroPop: 221\t MicroPop: 1000\t AccEstimate: 1.0\t AveGen: 0.540166666666667\t Time: 0.044827067852020265\n",
      "Epoch: 103\t Iteration: 6592\t MacroPop: 221\t MicroPop: 1000\t AccEstimate: 1.0\t AveGen: 0.5403333333333334\t Time: 0.04534453948338826\n",
      "Epoch: 104\t Iteration: 6656\t MacroPop: 220\t MicroPop: 1000\t AccEstimate: 1.0\t AveGen: 0.5401666666666669\t Time: 0.045868690808614096\n",
      "Epoch: 105\t Iteration: 6720\t MacroPop: 218\t MicroPop: 1000\t AccEstimate: 1.0\t AveGen: 0.5406666666666669\t Time: 0.0463552991549174\n",
      "Epoch: 106\t Iteration: 6784\t MacroPop: 215\t MicroPop: 1000\t AccEstimate: 1.0\t AveGen: 0.5405000000000002\t Time: 0.04685150782267253\n",
      "Epoch: 107\t Iteration: 6848\t MacroPop: 218\t MicroPop: 1000\t AccEstimate: 1.0\t AveGen: 0.540666666666667\t Time: 0.04737387100855509\n",
      "Epoch: 108\t Iteration: 6912\t MacroPop: 216\t MicroPop: 1000\t AccEstimate: 1.0\t AveGen: 0.5400000000000004\t Time: 0.047861091295878094\n",
      "Epoch: 109\t Iteration: 6976\t MacroPop: 215\t MicroPop: 1000\t AccEstimate: 1.0\t AveGen: 0.5395000000000002\t Time: 0.048347437381744386\n",
      "Epoch: 110\t Iteration: 7040\t MacroPop: 215\t MicroPop: 1000\t AccEstimate: 1.0\t AveGen: 0.5393333333333336\t Time: 0.048824405670166014\n",
      "Epoch: 111\t Iteration: 7104\t MacroPop: 219\t MicroPop: 1000\t AccEstimate: 1.0\t AveGen: 0.5391666666666668\t Time: 0.049351255098978676\n",
      "Epoch: 112\t Iteration: 7168\t MacroPop: 218\t MicroPop: 1000\t AccEstimate: 1.0\t AveGen: 0.5393333333333334\t Time: 0.04982552925745646\n",
      "Epoch: 113\t Iteration: 7232\t MacroPop: 220\t MicroPop: 1000\t AccEstimate: 1.0\t AveGen: 0.5391666666666669\t Time: 0.05034949779510498\n",
      "Epoch: 114\t Iteration: 7296\t MacroPop: 219\t MicroPop: 1000\t AccEstimate: 1.0\t AveGen: 0.5396666666666668\t Time: 0.05086417595545451\n",
      "Epoch: 115\t Iteration: 7360\t MacroPop: 219\t MicroPop: 1000\t AccEstimate: 1.0\t AveGen: 0.5411666666666668\t Time: 0.05135443607966105\n",
      "Epoch: 116\t Iteration: 7424\t MacroPop: 221\t MicroPop: 1000\t AccEstimate: 1.0\t AveGen: 0.5413333333333334\t Time: 0.051832207043965656\n"
     ]
    },
    {
     "name": "stdout",
     "output_type": "stream",
     "text": [
      "Epoch: 117\t Iteration: 7488\t MacroPop: 222\t MicroPop: 1000\t AccEstimate: 1.0\t AveGen: 0.5411666666666669\t Time: 0.05234957933425903\n",
      "Epoch: 118\t Iteration: 7552\t MacroPop: 221\t MicroPop: 1000\t AccEstimate: 1.0\t AveGen: 0.5420000000000001\t Time: 0.05287361939748128\n",
      "Epoch: 119\t Iteration: 7616\t MacroPop: 224\t MicroPop: 1000\t AccEstimate: 1.0\t AveGen: 0.542\t Time: 0.053411448001861574\n",
      "Epoch: 120\t Iteration: 7680\t MacroPop: 226\t MicroPop: 1000\t AccEstimate: 1.0\t AveGen: 0.5413333333333333\t Time: 0.05391797224680583\n",
      "Epoch: 121\t Iteration: 7744\t MacroPop: 230\t MicroPop: 1000\t AccEstimate: 1.0\t AveGen: 0.5418333333333333\t Time: 0.05443344513575236\n",
      "Epoch: 122\t Iteration: 7808\t MacroPop: 226\t MicroPop: 1000\t AccEstimate: 1.0\t AveGen: 0.5408333333333333\t Time: 0.05497846206029256\n",
      "Epoch: 123\t Iteration: 7872\t MacroPop: 224\t MicroPop: 1000\t AccEstimate: 1.0\t AveGen: 0.5399999999999998\t Time: 0.05550031264623006\n",
      "Epoch: 124\t Iteration: 7936\t MacroPop: 224\t MicroPop: 1000\t AccEstimate: 1.0\t AveGen: 0.5393333333333333\t Time: 0.05601682265599569\n",
      "Epoch: 125\t Iteration: 8000\t MacroPop: 221\t MicroPop: 1000\t AccEstimate: 1.0\t AveGen: 0.5391666666666667\t Time: 0.05650384028752645\n",
      "Epoch: 126\t Iteration: 8064\t MacroPop: 223\t MicroPop: 1000\t AccEstimate: 1.0\t AveGen: 0.5386666666666667\t Time: 0.05701683759689331\n",
      "Epoch: 127\t Iteration: 8128\t MacroPop: 225\t MicroPop: 1000\t AccEstimate: 1.0\t AveGen: 0.5386666666666671\t Time: 0.05754026174545288\n",
      "Epoch: 128\t Iteration: 8192\t MacroPop: 227\t MicroPop: 1000\t AccEstimate: 1.0\t AveGen: 0.5373333333333333\t Time: 0.058078451951344805\n",
      "Epoch: 129\t Iteration: 8256\t MacroPop: 226\t MicroPop: 1000\t AccEstimate: 1.0\t AveGen: 0.5363333333333332\t Time: 0.058584296703338624\n",
      "Epoch: 130\t Iteration: 8320\t MacroPop: 229\t MicroPop: 1000\t AccEstimate: 1.0\t AveGen: 0.5363333333333332\t Time: 0.05907684564590454\n",
      "Epoch: 131\t Iteration: 8384\t MacroPop: 231\t MicroPop: 1000\t AccEstimate: 1.0\t AveGen: 0.5351666666666668\t Time: 0.05958333015441895\n",
      "Epoch: 132\t Iteration: 8448\t MacroPop: 228\t MicroPop: 1000\t AccEstimate: 1.0\t AveGen: 0.5333333333333335\t Time: 0.060122636953989665\n",
      "Epoch: 133\t Iteration: 8512\t MacroPop: 228\t MicroPop: 1000\t AccEstimate: 1.0\t AveGen: 0.5343333333333334\t Time: 0.060635292530059816\n",
      "Epoch: 134\t Iteration: 8576\t MacroPop: 225\t MicroPop: 1000\t AccEstimate: 1.0\t AveGen: 0.5336666666666667\t Time: 0.06116385062535604\n",
      "Epoch: 135\t Iteration: 8640\t MacroPop: 228\t MicroPop: 1000\t AccEstimate: 1.0\t AveGen: 0.5341666666666666\t Time: 0.06168475151062012\n",
      "Epoch: 136\t Iteration: 8704\t MacroPop: 230\t MicroPop: 1000\t AccEstimate: 1.0\t AveGen: 0.5341666666666668\t Time: 0.06223420699437459\n",
      "Epoch: 137\t Iteration: 8768\t MacroPop: 230\t MicroPop: 1000\t AccEstimate: 1.0\t AveGen: 0.5350000000000003\t Time: 0.06281951268513998\n",
      "Epoch: 138\t Iteration: 8832\t MacroPop: 230\t MicroPop: 1000\t AccEstimate: 1.0\t AveGen: 0.5353333333333337\t Time: 0.06330643892288208\n",
      "Epoch: 139\t Iteration: 8896\t MacroPop: 227\t MicroPop: 1000\t AccEstimate: 1.0\t AveGen: 0.5355000000000003\t Time: 0.06382405757904053\n",
      "Epoch: 140\t Iteration: 8960\t MacroPop: 226\t MicroPop: 1000\t AccEstimate: 1.0\t AveGen: 0.5345000000000003\t Time: 0.06433498462041219\n",
      "Epoch: 141\t Iteration: 9024\t MacroPop: 228\t MicroPop: 1000\t AccEstimate: 1.0\t AveGen: 0.5343333333333334\t Time: 0.06483019987742106\n",
      "Epoch: 142\t Iteration: 9088\t MacroPop: 226\t MicroPop: 1000\t AccEstimate: 1.0\t AveGen: 0.5341666666666668\t Time: 0.06535965204238892\n",
      "Epoch: 143\t Iteration: 9152\t MacroPop: 227\t MicroPop: 1000\t AccEstimate: 1.0\t AveGen: 0.5338333333333333\t Time: 0.06587673823038737\n",
      "Epoch: 144\t Iteration: 9216\t MacroPop: 230\t MicroPop: 1000\t AccEstimate: 1.0\t AveGen: 0.5339999999999999\t Time: 0.06638690630594889\n",
      "Epoch: 145\t Iteration: 9280\t MacroPop: 229\t MicroPop: 1000\t AccEstimate: 1.0\t AveGen: 0.5336666666666665\t Time: 0.06689819892247519\n",
      "Epoch: 146\t Iteration: 9344\t MacroPop: 226\t MicroPop: 1000\t AccEstimate: 1.0\t AveGen: 0.5343333333333332\t Time: 0.06746574640274047\n",
      "Epoch: 147\t Iteration: 9408\t MacroPop: 223\t MicroPop: 1000\t AccEstimate: 1.0\t AveGen: 0.5326666666666666\t Time: 0.0679729421933492\n",
      "Epoch: 148\t Iteration: 9472\t MacroPop: 222\t MicroPop: 1000\t AccEstimate: 1.0\t AveGen: 0.5326666666666665\t Time: 0.06846379041671753\n",
      "Epoch: 149\t Iteration: 9536\t MacroPop: 224\t MicroPop: 1000\t AccEstimate: 1.0\t AveGen: 0.5331666666666662\t Time: 0.06897318760553996\n",
      "Epoch: 150\t Iteration: 9600\t MacroPop: 224\t MicroPop: 1000\t AccEstimate: 1.0\t AveGen: 0.5329999999999998\t Time: 0.06944699684778849\n",
      "Epoch: 151\t Iteration: 9664\t MacroPop: 224\t MicroPop: 1000\t AccEstimate: 1.0\t AveGen: 0.5323333333333329\t Time: 0.06994860967000326\n",
      "Epoch: 152\t Iteration: 9728\t MacroPop: 225\t MicroPop: 1000\t AccEstimate: 1.0\t AveGen: 0.5323333333333331\t Time: 0.0704376737276713\n",
      "Epoch: 153\t Iteration: 9792\t MacroPop: 225\t MicroPop: 1000\t AccEstimate: 1.0\t AveGen: 0.5314999999999999\t Time: 0.07095456918080648\n",
      "Epoch: 154\t Iteration: 9856\t MacroPop: 224\t MicroPop: 1000\t AccEstimate: 1.0\t AveGen: 0.5318333333333333\t Time: 0.07145770788192748\n",
      "Epoch: 155\t Iteration: 9920\t MacroPop: 223\t MicroPop: 1000\t AccEstimate: 1.0\t AveGen: 0.5316666666666665\t Time: 0.07197792530059814\n",
      "Epoch: 156\t Iteration: 9984\t MacroPop: 224\t MicroPop: 1000\t AccEstimate: 1.0\t AveGen: 0.5319999999999999\t Time: 0.07250059445699056\n",
      "------------------------------------------------------------------------------------------------------------------------------------------------------\n",
      "Running Population Evaluation after 10000 iterations.\n",
      "-----------------------------------------------\n",
      "TRAINING Accuracy Results:-------------\n",
      "Instance Coverage = 100.0%\n",
      "Prediction Ties = 0.0%\n",
      "64 out of 64 instances covered and correctly classified.\n",
      "Standard Accuracy (Adjusted) = 1.0\n",
      "Balanced Accuracy (Adjusted) = 1.0\n",
      "Writing Population Statistical Summary File...\n",
      "Writing Population as Data File...\n",
      "Continue Learning...\n",
      "------------------------------------------------------------------------------------------------------------------------------------------------------\n",
      "eLCS Run Complete\n"
     ]
    }
   ],
   "source": [
    "import os\n",
    "\n",
    "# Change to parent dir to allow importation of modules\n",
    "if os.path.split(os.getcwd())[1] != 'CITS4404':\n",
    "    os.chdir('..')\n",
    "\n",
    "from eLCS.Timer import Timer\n",
    "from eLCS.OfflineEnvironment import OfflineEnvironment\n",
    "from eLCS.Algorithm import Algorithm\n",
    "from eLCS.Constants import cons\n",
    "\n",
    "\"\"\"To run e-LCS, run this module.  \n",
    "\n",
    "A properly formatted configuration file, including all run parameters must be included with the path to that\n",
    "file given below.  In this example, the configuration file has been included locally, so only the file name is required.\n",
    "\"\"\"\n",
    "\n",
    "helpstr = \"\"\"Failed attempt to run e-LCS.  Please ensure that a configuration file giving all run parameters has been specified.\"\"\"\n",
    "\n",
    "# Specify the name and file path for the configuration file.\n",
    "config_txt = os.path.join('config', 'eLCS_config.yaml')\n",
    "\n",
    "# Obtain all run parameters from the configuration file and store them in the 'Constants' module.\n",
    "dataset_path = os.path.join('data', 'eLCS')\n",
    "cons.setConstants(config_txt, dataset_path=dataset_path)\n",
    "\n",
    "# Initialize the 'Timer' module which tracks the run time of algorithm and it's different components.\n",
    "timer = Timer()\n",
    "cons.referenceTimer(timer)\n",
    "\n",
    "# Initialize the 'Environment' module which manages the data presented to the algorithm.  While e-LCS learns iteratively (one inistance at a time\n",
    "env = OfflineEnvironment()\n",
    "cons.referenceEnv(\n",
    "    env)  # Passes the environment to 'Constants' (cons) so that it can be easily accessed from anywhere within the code.\n",
    "cons.parseIterations()  # Identify the maximum number of learning iterations as well as evaluation checkpoints.\n",
    "\n",
    "# Run the e-LCS algorithm.\n",
    "eLCS = Algorithm()\n",
    "\n",
    "# Get the output of runtime parameters from the eLCS\n",
    "runtimeParams = eLCS.getRuntimeParams()"
   ]
  },
  {
   "cell_type": "code",
   "execution_count": 2,
   "metadata": {},
   "outputs": [
    {
     "name": "stdout",
     "output_type": "stream",
     "text": [
      "{'time': 9.662310282389323e-05, 'macro_pop': 30, 'ave_gen': 0.4895833333333333, 'epoch': 1, 'acc_estimate': 0.6875, 'iteration': 64, 'micro_pop': 32}\n"
     ]
    }
   ],
   "source": [
    "print(runtimeParams[0])\n",
    "\n",
    "#  Generate lists for plotting\n",
    "epoch_list = [i['epoch'] for i in runtimeParams]\n",
    "iter_list = [i['iteration'] for i in runtimeParams]\n",
    "acc_list = [i['acc_estimate'] for i in runtimeParams]\n",
    "ave_gen_list = [i['ave_gen'] for i in runtimeParams]\n",
    "micro_list = [i['micro_pop'] for i in runtimeParams]\n",
    "macro_list = [i['macro_pop'] for i in runtimeParams]"
   ]
  },
  {
   "cell_type": "code",
   "execution_count": 3,
   "metadata": {},
   "outputs": [
    {
     "data": {
      "text/plain": [
       "[<matplotlib.lines.Line2D at 0x7f50229ede80>]"
      ]
     },
     "execution_count": 3,
     "metadata": {},
     "output_type": "execute_result"
    },
    {
     "data": {
      "image/png": "[encoded data removed]",
      "text/plain": [
       "<matplotlib.figure.Figure at 0x7f50229a8c18>"
      ]
     },
     "metadata": {},
     "output_type": "display_data"
    }
   ],
   "source": [
    "%matplotlib inline\n",
    "\n",
    "import matplotlib\n",
    "import numpy as np\n",
    "import matplotlib.pyplot as plt\n",
    "\n",
    "plt.plot(iter_list, acc_list)"
   ]
  },
  {
   "cell_type": "code",
   "execution_count": 4,
   "metadata": {},
   "outputs": [
    {
     "data": {
      "text/plain": [
       "[<matplotlib.lines.Line2D at 0x7f5020618b70>]"
      ]
     },
     "execution_count": 4,
     "metadata": {},
     "output_type": "execute_result"
    },
    {
     "data": {
      "image/png": "[encoded data removed]",
      "text/plain": [
       "<matplotlib.figure.Figure at 0x7f502069ac88>"
      ]
     },
     "metadata": {},
     "output_type": "display_data"
    }
   ],
   "source": [
    "plt.plot(epoch_list, acc_list)"
   ]
  },
  {
   "cell_type": "code",
   "execution_count": 5,
   "metadata": {},
   "outputs": [
    {
     "data": {
      "text/plain": [
       "[<matplotlib.lines.Line2D at 0x7f50205936d8>]"
      ]
     },
     "execution_count": 5,
     "metadata": {},
     "output_type": "execute_result"
    },
    {
     "data": {
      "image/png": "[encoded data removed]",
      "text/plain": [
       "<matplotlib.figure.Figure at 0x7f50205ca208>"
      ]
     },
     "metadata": {},
     "output_type": "display_data"
    }
   ],
   "source": [
    "plt.plot(epoch_list, micro_list)"
   ]
  },
  {
   "cell_type": "code",
   "execution_count": 6,
   "metadata": {},
   "outputs": [
    {
     "data": {
      "text/plain": [
       "[<matplotlib.lines.Line2D at 0x7f50204fe748>]"
      ]
     },
     "execution_count": 6,
     "metadata": {},
     "output_type": "execute_result"
    },
    {
     "data": {
      "image/png": "[encoded data removed]",
      "text/plain": [
       "<matplotlib.figure.Figure at 0x7f50205a3a90>"
      ]
     },
     "metadata": {},
     "output_type": "display_data"
    }
   ],
   "source": [
    "plt.plot(epoch_list, macro_list)"
   ]
  },
  {
   "cell_type": "code",
   "execution_count": 7,
   "metadata": {},
   "outputs": [
    {
     "data": {
      "text/plain": [
       "[<matplotlib.lines.Line2D at 0x7f50204e8390>]"
      ]
     },
     "execution_count": 7,
     "metadata": {},
     "output_type": "execute_result"
    },
    {
     "data": {
      "image/png": "[encoded data removed]",
      "text/plain": [
       "<matplotlib.figure.Figure at 0x7f502050e5c0>"
      ]
     },
     "metadata": {},
     "output_type": "display_data"
    }
   ],
   "source": [
    "plt.plot(epoch_list, ave_gen_list)"
   ]
  },
  {
   "cell_type": "code",
   "execution_count": null,
   "metadata": {
    "collapsed": true
   },
   "outputs": [],
   "source": []
  }
 ],
 "metadata": {
  "kernelspec": {
   "display_name": "Python 3",
   "language": "python",
   "name": "python3"
  },
  "language_info": {
   "codemirror_mode": {
    "name": "ipython",
    "version": 3
   },
   "file_extension": ".py",
   "mimetype": "text/x-python",
   "name": "python",
   "nbconvert_exporter": "python",
   "pygments_lexer": "ipython3",
   "version": "3.5.2"
  }
 },
 "nbformat": 4,
 "nbformat_minor": 2
}
